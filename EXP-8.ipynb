{
 "cells": [
  {
   "cell_type": "code",
   "execution_count": 1,
   "metadata": {},
   "outputs": [
    {
     "name": "stdout",
     "output_type": "stream",
     "text": [
      "Original word: happee\n",
      "Corrected spelling: happy\n",
      "Minimum edit distance: 2\n"
     ]
    }
   ],
   "source": [
    "def min_edit_distance(str1, str2):\n",
    "    len_str1 = len(str1) + 1\n",
    "    len_str2 = len(str2) + 1\n",
    "\n",
    "    # Create a matrix to store minimum edit distances\n",
    "    matrix = [[0 for _ in range(len_str2)] for _ in range(len_str1)]\n",
    "\n",
    "    # Initialize the matrix with distances for the first row and column\n",
    "    for i in range(len_str1):\n",
    "        matrix[i][0] = i\n",
    "    for j in range(len_str2):\n",
    "        matrix[0][j] = j\n",
    "\n",
    "    # Fill in the matrix with minimum edit distances\n",
    "    for i in range(1, len_str1):\n",
    "        for j in range(1, len_str2):\n",
    "            cost = 0 if str1[i - 1] == str2[j - 1] else 1\n",
    "            matrix[i][j] = min(\n",
    "                matrix[i - 1][j] + 1,  # Deletion\n",
    "                matrix[i][j - 1] + 1,  # Insertion\n",
    "                matrix[i - 1][j - 1] + cost  # Substitution\n",
    "            )\n",
    "\n",
    "    return matrix[len_str1 - 1][len_str2 - 1]\n",
    "\n",
    "\n",
    "def correct_spelling(word, candidate_words):\n",
    "    # Find the word in the candidate list with the minimum edit distance\n",
    "    min_distance = float('inf')\n",
    "    corrected_word = \"\"\n",
    "\n",
    "    for candidate in candidate_words:\n",
    "        distance = min_edit_distance(word, candidate)\n",
    "        if distance < min_distance:\n",
    "            min_distance = distance\n",
    "            corrected_word = candidate\n",
    "\n",
    "    return corrected_word, min_distance\n",
    "\n",
    "\n",
    "# Example usage:\n",
    "input_word = \"happee\"  # Replace this with the word you want to correct\n",
    "candidate_words = [\"happy\", \"happier\", \"happiness\", \"happening\", \"hippie\"]\n",
    "\n",
    "corrected_word, distance = correct_spelling(input_word, candidate_words)\n",
    "print(f\"Original word: {input_word}\")\n",
    "print(f\"Corrected spelling: {corrected_word}\")\n",
    "print(f\"Minimum edit distance: {distance}\")\n"
   ]
  }
 ],
 "metadata": {
  "kernelspec": {
   "display_name": "Python 3",
   "language": "python",
   "name": "python3"
  },
  "language_info": {
   "codemirror_mode": {
    "name": "ipython",
    "version": 3
   },
   "file_extension": ".py",
   "mimetype": "text/x-python",
   "name": "python",
   "nbconvert_exporter": "python",
   "pygments_lexer": "ipython3",
   "version": "3.12.1"
  }
 },
 "nbformat": 4,
 "nbformat_minor": 2
}
